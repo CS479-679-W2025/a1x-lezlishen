{
  "cells": [
    {
      "cell_type": "markdown",
      "metadata": {
        "id": "koNAEw-URTzv"
      },
      "source": [
        "# A1: Neuron Models"
      ]
    },
    {
      "cell_type": "markdown",
      "metadata": {
        "id": "KWFiqZITRTzx"
      },
      "source": [
        "## Prelims"
      ]
    },
    {
      "cell_type": "code",
      "source": [
        "from google.colab import files\n",
        "uploaded = files.upload()"
      ],
      "metadata": {
        "colab": {
          "base_uri": "https://localhost:8080/",
          "height": 109
        },
        "id": "_qFv7GfRVrZv",
        "outputId": "98ddfee2-78c3-46c0-a076-a3c45152ef7f"
      },
      "execution_count": 23,
      "outputs": [
        {
          "output_type": "display_data",
          "data": {
            "text/plain": [
              "<IPython.core.display.HTML object>"
            ],
            "text/html": [
              "\n",
              "     <input type=\"file\" id=\"files-e6135cec-6eee-4004-83a1-42a73e5e8240\" name=\"files[]\" multiple disabled\n",
              "        style=\"border:none\" />\n",
              "     <output id=\"result-e6135cec-6eee-4004-83a1-42a73e5e8240\">\n",
              "      Upload widget is only available when the cell has been executed in the\n",
              "      current browser session. Please rerun this cell to enable.\n",
              "      </output>\n",
              "      <script>// Copyright 2017 Google LLC\n",
              "//\n",
              "// Licensed under the Apache License, Version 2.0 (the \"License\");\n",
              "// you may not use this file except in compliance with the License.\n",
              "// You may obtain a copy of the License at\n",
              "//\n",
              "//      http://www.apache.org/licenses/LICENSE-2.0\n",
              "//\n",
              "// Unless required by applicable law or agreed to in writing, software\n",
              "// distributed under the License is distributed on an \"AS IS\" BASIS,\n",
              "// WITHOUT WARRANTIES OR CONDITIONS OF ANY KIND, either express or implied.\n",
              "// See the License for the specific language governing permissions and\n",
              "// limitations under the License.\n",
              "\n",
              "/**\n",
              " * @fileoverview Helpers for google.colab Python module.\n",
              " */\n",
              "(function(scope) {\n",
              "function span(text, styleAttributes = {}) {\n",
              "  const element = document.createElement('span');\n",
              "  element.textContent = text;\n",
              "  for (const key of Object.keys(styleAttributes)) {\n",
              "    element.style[key] = styleAttributes[key];\n",
              "  }\n",
              "  return element;\n",
              "}\n",
              "\n",
              "// Max number of bytes which will be uploaded at a time.\n",
              "const MAX_PAYLOAD_SIZE = 100 * 1024;\n",
              "\n",
              "function _uploadFiles(inputId, outputId) {\n",
              "  const steps = uploadFilesStep(inputId, outputId);\n",
              "  const outputElement = document.getElementById(outputId);\n",
              "  // Cache steps on the outputElement to make it available for the next call\n",
              "  // to uploadFilesContinue from Python.\n",
              "  outputElement.steps = steps;\n",
              "\n",
              "  return _uploadFilesContinue(outputId);\n",
              "}\n",
              "\n",
              "// This is roughly an async generator (not supported in the browser yet),\n",
              "// where there are multiple asynchronous steps and the Python side is going\n",
              "// to poll for completion of each step.\n",
              "// This uses a Promise to block the python side on completion of each step,\n",
              "// then passes the result of the previous step as the input to the next step.\n",
              "function _uploadFilesContinue(outputId) {\n",
              "  const outputElement = document.getElementById(outputId);\n",
              "  const steps = outputElement.steps;\n",
              "\n",
              "  const next = steps.next(outputElement.lastPromiseValue);\n",
              "  return Promise.resolve(next.value.promise).then((value) => {\n",
              "    // Cache the last promise value to make it available to the next\n",
              "    // step of the generator.\n",
              "    outputElement.lastPromiseValue = value;\n",
              "    return next.value.response;\n",
              "  });\n",
              "}\n",
              "\n",
              "/**\n",
              " * Generator function which is called between each async step of the upload\n",
              " * process.\n",
              " * @param {string} inputId Element ID of the input file picker element.\n",
              " * @param {string} outputId Element ID of the output display.\n",
              " * @return {!Iterable<!Object>} Iterable of next steps.\n",
              " */\n",
              "function* uploadFilesStep(inputId, outputId) {\n",
              "  const inputElement = document.getElementById(inputId);\n",
              "  inputElement.disabled = false;\n",
              "\n",
              "  const outputElement = document.getElementById(outputId);\n",
              "  outputElement.innerHTML = '';\n",
              "\n",
              "  const pickedPromise = new Promise((resolve) => {\n",
              "    inputElement.addEventListener('change', (e) => {\n",
              "      resolve(e.target.files);\n",
              "    });\n",
              "  });\n",
              "\n",
              "  const cancel = document.createElement('button');\n",
              "  inputElement.parentElement.appendChild(cancel);\n",
              "  cancel.textContent = 'Cancel upload';\n",
              "  const cancelPromise = new Promise((resolve) => {\n",
              "    cancel.onclick = () => {\n",
              "      resolve(null);\n",
              "    };\n",
              "  });\n",
              "\n",
              "  // Wait for the user to pick the files.\n",
              "  const files = yield {\n",
              "    promise: Promise.race([pickedPromise, cancelPromise]),\n",
              "    response: {\n",
              "      action: 'starting',\n",
              "    }\n",
              "  };\n",
              "\n",
              "  cancel.remove();\n",
              "\n",
              "  // Disable the input element since further picks are not allowed.\n",
              "  inputElement.disabled = true;\n",
              "\n",
              "  if (!files) {\n",
              "    return {\n",
              "      response: {\n",
              "        action: 'complete',\n",
              "      }\n",
              "    };\n",
              "  }\n",
              "\n",
              "  for (const file of files) {\n",
              "    const li = document.createElement('li');\n",
              "    li.append(span(file.name, {fontWeight: 'bold'}));\n",
              "    li.append(span(\n",
              "        `(${file.type || 'n/a'}) - ${file.size} bytes, ` +\n",
              "        `last modified: ${\n",
              "            file.lastModifiedDate ? file.lastModifiedDate.toLocaleDateString() :\n",
              "                                    'n/a'} - `));\n",
              "    const percent = span('0% done');\n",
              "    li.appendChild(percent);\n",
              "\n",
              "    outputElement.appendChild(li);\n",
              "\n",
              "    const fileDataPromise = new Promise((resolve) => {\n",
              "      const reader = new FileReader();\n",
              "      reader.onload = (e) => {\n",
              "        resolve(e.target.result);\n",
              "      };\n",
              "      reader.readAsArrayBuffer(file);\n",
              "    });\n",
              "    // Wait for the data to be ready.\n",
              "    let fileData = yield {\n",
              "      promise: fileDataPromise,\n",
              "      response: {\n",
              "        action: 'continue',\n",
              "      }\n",
              "    };\n",
              "\n",
              "    // Use a chunked sending to avoid message size limits. See b/62115660.\n",
              "    let position = 0;\n",
              "    do {\n",
              "      const length = Math.min(fileData.byteLength - position, MAX_PAYLOAD_SIZE);\n",
              "      const chunk = new Uint8Array(fileData, position, length);\n",
              "      position += length;\n",
              "\n",
              "      const base64 = btoa(String.fromCharCode.apply(null, chunk));\n",
              "      yield {\n",
              "        response: {\n",
              "          action: 'append',\n",
              "          file: file.name,\n",
              "          data: base64,\n",
              "        },\n",
              "      };\n",
              "\n",
              "      let percentDone = fileData.byteLength === 0 ?\n",
              "          100 :\n",
              "          Math.round((position / fileData.byteLength) * 100);\n",
              "      percent.textContent = `${percentDone}% done`;\n",
              "\n",
              "    } while (position < fileData.byteLength);\n",
              "  }\n",
              "\n",
              "  // All done.\n",
              "  yield {\n",
              "    response: {\n",
              "      action: 'complete',\n",
              "    }\n",
              "  };\n",
              "}\n",
              "\n",
              "scope.google = scope.google || {};\n",
              "scope.google.colab = scope.google.colab || {};\n",
              "scope.google.colab._files = {\n",
              "  _uploadFiles,\n",
              "  _uploadFilesContinue,\n",
              "};\n",
              "})(self);\n",
              "</script> "
            ]
          },
          "metadata": {}
        },
        {
          "output_type": "stream",
          "name": "stdout",
          "text": [
            "Saving ans.py to ans (2).py\n",
            "Saving neuron_models.py to neuron_models (3).py\n"
          ]
        }
      ]
    },
    {
      "cell_type": "code",
      "execution_count": 41,
      "metadata": {
        "colab": {
          "base_uri": "https://localhost:8080/"
        },
        "id": "QJNMkq7MRTzx",
        "outputId": "116f9bb7-5325-4e23-f013-63dcaabfcb99"
      },
      "outputs": [
        {
          "output_type": "stream",
          "name": "stdout",
          "text": [
            "The autoreload extension is already loaded. To reload it, use:\n",
            "  %reload_ext autoreload\n"
          ]
        }
      ],
      "source": [
        "import numpy as np\n",
        "import matplotlib.pyplot as plt\n",
        "\n",
        "import neuron_models as nm\n",
        "import ans as ans\n",
        "\n",
        "from neuron_models import SpikingNetwork, SpikingNeuron, InputNeuron, generate_spike_train\n",
        "\n",
        "# These next two lines automatically reload the imports if they are changed.\n",
        "%load_ext autoreload\n",
        "%autoreload 2"
      ]
    },
    {
      "cell_type": "markdown",
      "metadata": {
        "id": "VnAwglB9RTzz"
      },
      "source": [
        "# Q3: Two LIF Neurons"
      ]
    },
    {
      "cell_type": "markdown",
      "metadata": {
        "id": "g0Tlu8DqRTz0"
      },
      "source": [
        "## (a)"
      ]
    },
    {
      "cell_type": "code",
      "execution_count": 42,
      "metadata": {
        "id": "_eDCbkHYRTz1"
      },
      "outputs": [],
      "source": [
        "#=========== YOUR CODE (start) ===========\n",
        "#YOUR CODE HERE\n",
        "# Initialize the network\n",
        "net = SpikingNetwork()\n",
        "\n",
        "# Create LIF neurons\n",
        "LIF_A = SpikingNeuron(label='LIF A')\n",
        "LIF_B = SpikingNeuron(label='LIF B')\n",
        "\n",
        "# Set their refractory periods\n",
        "LIF_A.tau_ref = 0.01\n",
        "LIF_B.tau_ref = 0.01\n",
        "\n",
        "# Add neurons to the network\n",
        "net.add_neuron(LIF_A)\n",
        "net.add_neuron(LIF_B)\n",
        "\n",
        "# Connect the two neurons\n",
        "LIF_A.connect_to(LIF_B, 0.07)\n",
        "LIF_B.connect_to(LIF_A, 0.07)\n",
        "\n",
        "# Create input neurons\n",
        "InA = InputNeuron(generate_spike_train([[0, 0], [1.2, 50], [1.3, 0]]), label='InA')\n",
        "InB = InputNeuron(generate_spike_train([[0, 40], [0.1, 0]]), label='InB')\n",
        "\n",
        "# Add input neurons to the network\n",
        "net.add_neuron(InA)\n",
        "net.add_neuron(InB)\n",
        "\n",
        "# Connect inputs to LIF neurons\n",
        "InA.connect_to(LIF_A, -0.6)\n",
        "InB.connect_to(LIF_B, 0.3)\n",
        "\n",
        "#=========== YOUR CODE (end) ==========="
      ]
    },
    {
      "cell_type": "markdown",
      "metadata": {
        "id": "HIHceZ8hRTz2"
      },
      "source": [
        "## (b)"
      ]
    },
    {
      "cell_type": "code",
      "execution_count": 37,
      "metadata": {
        "colab": {
          "base_uri": "https://localhost:8080/",
          "height": 503
        },
        "id": "P3INY4bKRTz3",
        "outputId": "048d43cb-62fd-493c-a87a-078572dd1182"
      },
      "outputs": [
        {
          "output_type": "display_data",
          "data": {
            "text/plain": [
              "<Figure size 1000x600 with 1 Axes>"
            ],
            "image/png": "[encoded data removed]"
          },
          "metadata": {}
        }
      ],
      "source": [
        "#=========== YOUR CODE (start) ===========\n",
        "# Simulate the network for 2 seconds with a time step of 1 ms\n",
        "net.simulate(T=2.0, dt=0.001)\n",
        "\n",
        "# Plot the spike raster\n",
        "plt.figure(figsize=(10, 6))\n",
        "net.spike_raster()\n",
        "plt.title(\"Spike Raster Plot\")\n",
        "plt.show()\n",
        "#=========== YOUR CODE (end) ==========="
      ]
    },
    {
      "cell_type": "markdown",
      "metadata": {
        "id": "Fte68YA1RTz3"
      },
      "source": [
        "# Q4: LIF Firing Rate Experiment"
      ]
    },
    {
      "cell_type": "markdown",
      "metadata": {
        "id": "WqwY5lKFRTz4"
      },
      "source": [
        "## (a)"
      ]
    },
    {
      "cell_type": "code",
      "execution_count": 43,
      "metadata": {
        "id": "gZqDNoznRTz4"
      },
      "outputs": [],
      "source": [
        "#=========== YOUR CODE (start) ===========\n",
        "#YOUR CODE HERE\n",
        "import numpy as np\n",
        "import matplotlib.pyplot as plt\n",
        "from neuron_models import SpikingNetwork, InputNeuron, generate_spike_train, spikes_between\n",
        "\n",
        "# Define custom LIFNeuron class inline\n",
        "class LIFNeuron():\n",
        "    def __init__(self, Tau_m=0.01, Tau_ref=0.005, Tau_s=0.3, label=None):\n",
        "        self.Tau_m = Tau_m\n",
        "        self.Tau_ref = Tau_ref\n",
        "        self.Tau_s = Tau_s\n",
        "        self.label = label\n",
        "        self.v = 0.0\n",
        "        self.refractory_time = 0.0\n",
        "        self.spikes = []\n",
        "\n",
        "    def step(self, I, dt, t):\n",
        "        \"\"\"\n",
        "        Advance the state of the neuron by one time step.\n",
        "        :param I: Input current (A.U.)\n",
        "        :param dt: Time step (s)\n",
        "        :param t: Current time (s)\n",
        "        \"\"\"\n",
        "        if self.refractory_time > 0:\n",
        "            self.refractory_time -= dt\n",
        "            self.v = 0.0\n",
        "        else:\n",
        "            dv = (-self.v + I) / self.Tau_m\n",
        "            self.v += dv * dt\n",
        "\n",
        "            if self.v >= 1.0:\n",
        "                self.spikes.append(t)\n",
        "                self.v = 0.0\n",
        "                self.refractory_time = self.Tau_ref\n",
        "\n",
        "    def get_spikes(self):\n",
        "        return self.spikes\n",
        "\n",
        "\n",
        "# Parameters\n",
        "N = 50\n",
        "Tau_m = 0.01\n",
        "Tau_s = 0.3\n",
        "Tau_ref = 0.005\n",
        "input_rate = 20\n",
        "T = 2\n",
        "dt = 0.001\n",
        "weights = np.linspace(0, 20 / (3 * N), N)\n",
        "\n",
        "# Create the input spike train\n",
        "input_spike_train = generate_spike_train([[0, input_rate]])\n",
        "\n",
        "# Initialize neurons\n",
        "lif_neurons = [LIFNeuron(Tau_m=Tau_m, Tau_ref=Tau_ref, Tau_s=Tau_s, label=f\"Neuron {i}\") for i in range(N)]\n",
        "\n",
        "#=========== YOUR CODE (end) ==========="
      ]
    },
    {
      "cell_type": "markdown",
      "metadata": {
        "id": "_aVmJRE1RTz4"
      },
      "source": [
        "## (b)"
      ]
    },
    {
      "cell_type": "code",
      "execution_count": 44,
      "metadata": {
        "colab": {
          "base_uri": "https://localhost:8080/"
        },
        "id": "LVuSNnxvRTz4",
        "outputId": "a6484b56-8579-4f1f-b216-5eaf44442450"
      },
      "outputs": [
        {
          "output_type": "stream",
          "name": "stdout",
          "text": [
            "the firing rates are: [0.0, 0.0, 0.0, 0.0, 0.0, 0.0, 0.0, 0.0, 0.0, 0.0, 0.0, 0.0, 0.0, 0.0, 0.0, 0.0, 0.0, 0.0, 0.0, 26.0, 35.0, 40.0, 44.0, 48.0, 53.0, 56.0, 58.0, 63.0, 63.0, 66.0, 72.0, 72.0, 72.0, 77.0, 77.0, 77.0, 84.0, 84.0, 84.0, 84.0, 91.0, 91.0, 91.0, 91.0, 91.0, 100.0, 100.0, 100.0, 100.0, 100.0]\n",
            "the input current is: [0.         0.05442177 0.10884354 0.16326531 0.21768707 0.27210884\n",
            " 0.32653061 0.38095238 0.43537415 0.48979592 0.54421769 0.59863946\n",
            " 0.65306122 0.70748299 0.76190476 0.81632653 0.8707483  0.92517007\n",
            " 0.97959184 1.03401361 1.08843537 1.14285714 1.19727891 1.25170068\n",
            " 1.30612245 1.36054422 1.41496599 1.46938776 1.52380952 1.57823129\n",
            " 1.63265306 1.68707483 1.7414966  1.79591837 1.85034014 1.9047619\n",
            " 1.95918367 2.01360544 2.06802721 2.12244898 2.17687075 2.23129252\n",
            " 2.28571429 2.34013605 2.39455782 2.44897959 2.50340136 2.55782313\n",
            " 2.6122449  2.66666667]\n"
          ]
        }
      ],
      "source": [
        "#=========== YOUR CODE (start) ===========\n",
        "#YOUR CODE HERE\n",
        "# Simulation\n",
        "spike_counts = np.zeros(N)\n",
        "time = np.arange(0, T, dt)\n",
        "for t in time:\n",
        "    for i, neuron in enumerate(lif_neurons):\n",
        "        # Compute input current as weight × spike rate\n",
        "        I = weights[i] * input_rate\n",
        "        neuron.step(I, dt, t)\n",
        "\n",
        "# Calculate firing rates\n",
        "firing_rates = []\n",
        "for neuron in lif_neurons:\n",
        "    spike_count = spikes_between(neuron.get_spikes(), 1, 2)  # Count spikes between t=1 and t=2\n",
        "    firing_rate = spike_count / (2 - 1)  # Spikes per second\n",
        "    firing_rates.append(firing_rate)\n",
        "\n",
        "# Calculate input currents\n",
        "input_currents = weights * input_rate  # Current = weight × input rate\n",
        "\n",
        "print(\"the firing rates are:\", firing_rates)\n",
        "print(\"the input current is:\", input_currents)\n",
        "\n",
        "#=========== YOUR CODE (end) ==========="
      ]
    },
    {
      "cell_type": "markdown",
      "metadata": {
        "id": "07Zg1HPxRTz5"
      },
      "source": [
        "## (c)"
      ]
    },
    {
      "cell_type": "code",
      "execution_count": 45,
      "metadata": {
        "colab": {
          "base_uri": "https://localhost:8080/",
          "height": 564
        },
        "id": "C0CtgqdtRTz5",
        "outputId": "351f5f2c-89d3-44fd-d374-3fac5a03df19"
      },
      "outputs": [
        {
          "output_type": "display_data",
          "data": {
            "text/plain": [
              "<Figure size 800x600 with 1 Axes>"
            ],
            "image/png": "[encoded data removed]"
          },
          "metadata": {}
        }
      ],
      "source": [
        "#=========== YOUR CODE (start) ===========\n",
        "#YOUR CODE HERE\n",
        "# Plot input current vs firing rate\n",
        "plt.figure(figsize=(8, 6))\n",
        "plt.plot(input_currents, firing_rates, marker='o', linestyle='-')\n",
        "plt.xlabel(\"Input Current (A.U.)\")\n",
        "plt.ylabel(\"Firing Rate (Hz)\")\n",
        "plt.title(\"Input Current vs Firing Rate\")\n",
        "plt.grid(True)\n",
        "plt.show()\n",
        "#=========== YOUR CODE (end) ==========="
      ]
    },
    {
      "cell_type": "code",
      "execution_count": null,
      "metadata": {
        "id": "_uKaHBdfRTz5"
      },
      "outputs": [],
      "source": []
    }
  ],
  "metadata": {
    "kernelspec": {
      "display_name": "cs479",
      "language": "python",
      "name": "python3"
    },
    "language_info": {
      "codemirror_mode": {
        "name": "ipython",
        "version": 3
      },
      "file_extension": ".py",
      "mimetype": "text/x-python",
      "name": "python",
      "nbconvert_exporter": "python",
      "pygments_lexer": "ipython3",
      "version": "3.11.11"
    },
    "colab": {
      "provenance": []
    }
  },
  "nbformat": 4,
  "nbformat_minor": 0
}